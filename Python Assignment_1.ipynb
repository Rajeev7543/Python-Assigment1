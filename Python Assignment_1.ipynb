{
 "cells": [
  {
   "cell_type": "code",
   "execution_count": 1,
   "id": "e014450e",
   "metadata": {},
   "outputs": [
    {
     "name": "stdout",
     "output_type": "stream",
     "text": [
      "Hello Rajeev \n",
      "Where are you\n"
     ]
    }
   ],
   "source": [
    "print(\"Hello Rajeev \\nWhere are you\")"
   ]
  },
  {
   "cell_type": "code",
   "execution_count": 2,
   "id": "ac3496a7",
   "metadata": {},
   "outputs": [
    {
     "name": "stdout",
     "output_type": "stream",
     "text": [
      "Rajeev\n",
      "<class 'str'>\n"
     ]
    }
   ],
   "source": [
    "name =\"Rajeev\"\n",
    "Age =23\n",
    "print(name)\n",
    "print(type(name))"
   ]
  },
  {
   "cell_type": "markdown",
   "id": "ec62f5a2",
   "metadata": {},
   "source": [
    "# user input"
   ]
  },
  {
   "cell_type": "code",
   "execution_count": 3,
   "id": "c243491b",
   "metadata": {},
   "outputs": [
    {
     "name": "stdout",
     "output_type": "stream",
     "text": [
      "Enter name:rajeev\n",
      "Enter Age:33\n",
      "rajeev\n",
      "33\n"
     ]
    }
   ],
   "source": [
    "name =input(\"Enter name:\")\n",
    "Age =input(\"Enter Age:\")\n",
    "print(name)\n",
    "print(Age)"
   ]
  },
  {
   "cell_type": "code",
   "execution_count": 4,
   "id": "ee9f0a0d",
   "metadata": {},
   "outputs": [
    {
     "name": "stdout",
     "output_type": "stream",
     "text": [
      "Enter first number 33\n",
      "Enter second number 22\n",
      "55.0\n"
     ]
    }
   ],
   "source": [
    "a=float(input(\"Enter first number \"))\n",
    "b=int(input(\"Enter second number \"))\n",
    "c=a+b\n",
    "print(a+b)"
   ]
  },
  {
   "cell_type": "code",
   "execution_count": 5,
   "id": "90cd8ad5",
   "metadata": {},
   "outputs": [
    {
     "name": "stdout",
     "output_type": "stream",
     "text": [
      "Enter name of fatheramresh\n",
      "amresh\n"
     ]
    }
   ],
   "source": [
    "fatherName=input(\"Enter name of father\")\n",
    "print(fatherName)"
   ]
  },
  {
   "cell_type": "code",
   "execution_count": 6,
   "id": "6f853387",
   "metadata": {},
   "outputs": [
    {
     "name": "stdout",
     "output_type": "stream",
     "text": [
      "7\n"
     ]
    }
   ],
   "source": [
    "print(3+4)"
   ]
  },
  {
   "cell_type": "code",
   "execution_count": 7,
   "id": "3efa93a2",
   "metadata": {},
   "outputs": [
    {
     "name": "stdout",
     "output_type": "stream",
     "text": [
      "Enter first number: 33\n",
      "Enter second number: 33\n",
      "66\n"
     ]
    }
   ],
   "source": [
    "num1=int(input(\"Enter first number: \"))\n",
    "num2=int(input(\"Enter second number: \"))\n",
    "print(num1+num2)"
   ]
  },
  {
   "cell_type": "code",
   "execution_count": 8,
   "id": "aae6893b",
   "metadata": {},
   "outputs": [
    {
     "name": "stdout",
     "output_type": "stream",
     "text": [
      "5.666666666666667\n",
      "5\n"
     ]
    }
   ],
   "source": [
    "print(34/6)\n",
    "print(34//6)"
   ]
  },
  {
   "cell_type": "code",
   "execution_count": 9,
   "id": "40e2d4b4",
   "metadata": {},
   "outputs": [
    {
     "name": "stdout",
     "output_type": "stream",
     "text": [
      "1\n"
     ]
    }
   ],
   "source": [
    "print(25%3)"
   ]
  },
  {
   "cell_type": "code",
   "execution_count": 10,
   "id": "e7f44746",
   "metadata": {},
   "outputs": [
    {
     "name": "stdout",
     "output_type": "stream",
     "text": [
      "False\n"
     ]
    }
   ],
   "source": [
    "print(4>7)"
   ]
  },
  {
   "cell_type": "code",
   "execution_count": 11,
   "id": "e618db59",
   "metadata": {},
   "outputs": [
    {
     "name": "stdout",
     "output_type": "stream",
     "text": [
      "True\n"
     ]
    }
   ],
   "source": [
    "print(4==4)"
   ]
  },
  {
   "cell_type": "code",
   "execution_count": 12,
   "id": "031962dc",
   "metadata": {},
   "outputs": [
    {
     "name": "stdout",
     "output_type": "stream",
     "text": [
      "True\n"
     ]
    }
   ],
   "source": [
    "print(4!=5)"
   ]
  },
  {
   "cell_type": "code",
   "execution_count": 13,
   "id": "2d303931",
   "metadata": {},
   "outputs": [
    {
     "name": "stdout",
     "output_type": "stream",
     "text": [
      "False\n"
     ]
    }
   ],
   "source": [
    "marks=77\n",
    "print(marks>=80 and  marks<90)"
   ]
  },
  {
   "cell_type": "code",
   "execution_count": 14,
   "id": "9d61ce41",
   "metadata": {},
   "outputs": [
    {
     "name": "stdout",
     "output_type": "stream",
     "text": [
      "enter name: rajeev\n",
      "enter password: 123\n"
     ]
    }
   ],
   "source": [
    "username =\"Rajeev\"\n",
    "password=123\n",
    "un=input(\"enter name: \")\n",
    "ps=int(input(\"enter password: \"))\n",
    "if un==username and ps==password:\n",
    "    print(\"login successfull\")"
   ]
  },
  {
   "cell_type": "code",
   "execution_count": 15,
   "id": "228c1b9a",
   "metadata": {},
   "outputs": [
    {
     "name": "stdout",
     "output_type": "stream",
     "text": [
      "True\n"
     ]
    }
   ],
   "source": [
    "print(3>5 or 4<6 or 6>8)"
   ]
  },
  {
   "cell_type": "code",
   "execution_count": 16,
   "id": "9fe63a6f",
   "metadata": {},
   "outputs": [
    {
     "name": "stdout",
     "output_type": "stream",
     "text": [
      "65\n"
     ]
    }
   ],
   "source": [
    "amount =1\n",
    "chips=20\n",
    "amount*=20\n",
    "milk=25\n",
    "amount+=25\n",
    "oil=20\n",
    "amount+=20\n",
    "print(amount)"
   ]
  },
  {
   "cell_type": "markdown",
   "id": "4461b77b",
   "metadata": {},
   "source": [
    "# membership operator"
   ]
  },
  {
   "cell_type": "code",
   "execution_count": 17,
   "id": "23dc00e5",
   "metadata": {},
   "outputs": [
    {
     "name": "stdout",
     "output_type": "stream",
     "text": [
      "True\n"
     ]
    }
   ],
   "source": [
    "a=\"Rajeev\"\n",
    "print(\"j\" in a)"
   ]
  },
  {
   "cell_type": "code",
   "execution_count": 18,
   "id": "346809c4",
   "metadata": {},
   "outputs": [
    {
     "name": "stdout",
     "output_type": "stream",
     "text": [
      "True\n"
     ]
    }
   ],
   "source": [
    "name =[\"Rajeev\",\"nitesh\",\"ram\"]\n",
    "print(\"Rajeev\" in name)"
   ]
  },
  {
   "cell_type": "markdown",
   "id": "e0b7a8f5",
   "metadata": {},
   "source": [
    "# identity operator "
   ]
  },
  {
   "cell_type": "markdown",
   "id": "50906d50",
   "metadata": {},
   "source": [
    "a=12\n",
    "b=12\n",
    "print(a is b)\n",
    "print(a==b)"
   ]
  },
  {
   "cell_type": "code",
   "execution_count": 19,
   "id": "42ecad5a",
   "metadata": {},
   "outputs": [
    {
     "name": "stdout",
     "output_type": "stream",
     "text": [
      "enter marks69\n",
      "not give\n"
     ]
    }
   ],
   "source": [
    "marks=int(input(\"enter marks\"))\n",
    "if (marks>90):\n",
    "    print(\"give you mobile\")\n",
    "elif(marks>=80 and marks<=90):\n",
    "    print(\"give you leptop\")\n",
    "else:\n",
    "    print(\"not give\")"
   ]
  },
  {
   "cell_type": "code",
   "execution_count": 20,
   "id": "c6597514",
   "metadata": {},
   "outputs": [
    {
     "name": "stdout",
     "output_type": "stream",
     "text": [
      "enter username: rajeev\n",
      "incorrect username: \n"
     ]
    }
   ],
   "source": [
    "username=\"Rajeev\"\n",
    "password=123\n",
    "un=input(\"enter username: \")\n",
    "if un==username:\n",
    "    ps=int(input(\"enter password\"))\n",
    "    if ps==password:\n",
    "        print(\"login successfull: \")\n",
    "    else:\n",
    "        print(\"wrong password: \")\n",
    "else:\n",
    "    print(\"incorrect username: \")\n",
    "        "
   ]
  },
  {
   "cell_type": "code",
   "execution_count": 21,
   "id": "91749988",
   "metadata": {},
   "outputs": [
    {
     "name": "stdout",
     "output_type": "stream",
     "text": [
      "phone\n"
     ]
    }
   ],
   "source": [
    "marks=85\n",
    "if marks>70:\n",
    "    print(\"phone\")\n",
    "    if marks>90:\n",
    "        print(\"bike\")"
   ]
  },
  {
   "cell_type": "code",
   "execution_count": 22,
   "id": "2c5ac0cf",
   "metadata": {},
   "outputs": [
    {
     "name": "stdout",
     "output_type": "stream",
     "text": [
      "enter number: 34\n",
      "2 digit number \n"
     ]
    }
   ],
   "source": [
    "num=int(input(\"enter number: \"))\n",
    "if num>=0 and num<=9:\n",
    "    print(\"1 digit number \")\n",
    "elif num>=10 and num<=99:\n",
    "    print(\"2 digit number \")"
   ]
  },
  {
   "cell_type": "code",
   "execution_count": 23,
   "id": "745f0dcc",
   "metadata": {},
   "outputs": [
    {
     "name": "stdout",
     "output_type": "stream",
     "text": [
      "enter number: 33\n",
      "it is not divisible\n"
     ]
    }
   ],
   "source": [
    "num=int(input(\"enter number: \")) \n",
    "if num%6 ==0 and num%9==0:\n",
    "    print(\"it is divisible \")\n",
    "else:\n",
    "    print(\"it is not divisible\")"
   ]
  },
  {
   "cell_type": "code",
   "execution_count": 24,
   "id": "28f29ea4",
   "metadata": {},
   "outputs": [
    {
     "name": "stdout",
     "output_type": "stream",
     "text": [
      "Enter a number: 33\n",
      "33 is not divisible by both 6 and 9.\n"
     ]
    }
   ],
   "source": [
    "# Input from the user\n",
    "number = int(input(\"Enter a number: \"))\n",
    "\n",
    "# Check if the number is divisible by both 6 and 9\n",
    "if number % 6 == 0 and number % 9 == 0:\n",
    "    print(f\"{number} is divisible by both 6 and 9.\")\n",
    "else:\n",
    "    print(f\"{number} is not divisible by both 6 and 9.\")\n"
   ]
  },
  {
   "cell_type": "code",
   "execution_count": 25,
   "id": "277912da",
   "metadata": {},
   "outputs": [
    {
     "name": "stdout",
     "output_type": "stream",
     "text": [
      "<class 'int'>\n",
      "<class 'float'>\n"
     ]
    }
   ],
   "source": [
    "a=34\n",
    "print(type(a))\n",
    "a=float(a)\n",
    "print(type(a))"
   ]
  },
  {
   "cell_type": "code",
   "execution_count": 26,
   "id": "4dce042b",
   "metadata": {},
   "outputs": [
    {
     "name": "stdout",
     "output_type": "stream",
     "text": [
      "<class 'int'>\n",
      "<class 'float'>\n",
      "<class 'float'>\n"
     ]
    }
   ],
   "source": [
    "x=34\n",
    "print(type(x))\n",
    "x=float(x)\n",
    "print(type(x))\n",
    "a=34\n",
    "b=34.0\n",
    "z=a+b\n",
    "print(type(z))"
   ]
  },
  {
   "cell_type": "code",
   "execution_count": 27,
   "id": "5bfd69b5",
   "metadata": {},
   "outputs": [
    {
     "name": "stdout",
     "output_type": "stream",
     "text": [
      "6\n"
     ]
    }
   ],
   "source": [
    "a=\"Rajeev\"\n",
    "length=0\n",
    "for i in a:\n",
    "    \n",
    "    length+=1\n",
    "print(length)    "
   ]
  },
  {
   "cell_type": "code",
   "execution_count": 28,
   "id": "a45b2909",
   "metadata": {},
   "outputs": [
    {
     "name": "stdout",
     "output_type": "stream",
     "text": [
      "<class 'int'>\n",
      "<class 'float'>\n"
     ]
    }
   ],
   "source": [
    "a=23\n",
    "print(type(a))\n",
    "a=float(a)\n",
    "print(type(a))"
   ]
  },
  {
   "cell_type": "code",
   "execution_count": 29,
   "id": "69c112ed",
   "metadata": {},
   "outputs": [
    {
     "name": "stdout",
     "output_type": "stream",
     "text": [
      "6\n"
     ]
    }
   ],
   "source": [
    "z=\"Rajeev\"\n",
    "length=0\n",
    "for i in z:\n",
    "    length +=1\n",
    "print(length)\n",
    "       \n"
   ]
  },
  {
   "cell_type": "markdown",
   "id": "055d54e1",
   "metadata": {},
   "source": [
    "# loops"
   ]
  },
  {
   "cell_type": "code",
   "execution_count": 30,
   "id": "ddfaf8c3",
   "metadata": {},
   "outputs": [
    {
     "name": "stdout",
     "output_type": "stream",
     "text": [
      "5 x = 1 5\n",
      "5 x = 2 10\n",
      "5 x = 3 15\n",
      "5 x = 4 20\n",
      "5 x = 5 25\n",
      "5 x = 6 30\n",
      "5 x = 7 35\n",
      "5 x = 8 40\n",
      "5 x = 9 45\n",
      "5 x = 10 50\n"
     ]
    }
   ],
   "source": [
    "# for loop \n",
    "n=5\n",
    "for i in range(1,11):\n",
    "    print(n,\"x\",\"=\",i,n*i)"
   ]
  },
  {
   "cell_type": "code",
   "execution_count": 31,
   "id": "fd8c56a1",
   "metadata": {},
   "outputs": [
    {
     "name": "stdout",
     "output_type": "stream",
     "text": [
      "10\n"
     ]
    }
   ],
   "source": [
    "a=\"Rajeev rai\"\n",
    "count=0\n",
    "for i in a:\n",
    "    count +=1\n",
    "print(count)"
   ]
  },
  {
   "cell_type": "code",
   "execution_count": 32,
   "id": "deef5aa1",
   "metadata": {},
   "outputs": [
    {
     "name": "stdout",
     "output_type": "stream",
     "text": [
      "1\n",
      "9\n"
     ]
    }
   ],
   "source": [
    "a=\"Rajeev rai\"\n",
    "space_count=0\n",
    "for i in a:\n",
    "    if i==\" \":\n",
    "        space_count +=1\n",
    "    \n",
    "print(space_count)\n",
    "total_characters=count-space_count\n",
    "print(total_characters)"
   ]
  },
  {
   "cell_type": "code",
   "execution_count": 33,
   "id": "474de7d9",
   "metadata": {},
   "outputs": [
    {
     "name": "stdout",
     "output_type": "stream",
     "text": [
      "1\n",
      "3\n",
      "5\n",
      "7\n",
      "9\n"
     ]
    }
   ],
   "source": [
    "for i in range (1,11,2):\n",
    "    print(i)\n",
    "    "
   ]
  },
  {
   "cell_type": "code",
   "execution_count": 34,
   "id": "7175628e",
   "metadata": {},
   "outputs": [
    {
     "name": "stdout",
     "output_type": "stream",
     "text": [
      "15\n"
     ]
    }
   ],
   "source": [
    "count=0\n",
    "for i in range(1,6):\n",
    "    count +=i\n",
    "print(count)    \n",
    "    \n",
    "    "
   ]
  },
  {
   "cell_type": "code",
   "execution_count": 35,
   "id": "13027b88",
   "metadata": {},
   "outputs": [
    {
     "name": "stdout",
     "output_type": "stream",
     "text": [
      "45\n"
     ]
    }
   ],
   "source": [
    "count=0\n",
    "for i in range(1,10):\n",
    "    count +=i\n",
    "print(count)    "
   ]
  },
  {
   "cell_type": "code",
   "execution_count": 36,
   "id": "2d76dd00",
   "metadata": {},
   "outputs": [
    {
     "name": "stdout",
     "output_type": "stream",
     "text": [
      "24\n",
      "48\n",
      "72\n",
      "96\n"
     ]
    }
   ],
   "source": [
    "for i in range(1,101):\n",
    "    if i % 8 ==0 and i%12==0:\n",
    "        print(i)"
   ]
  },
  {
   "cell_type": "code",
   "execution_count": 37,
   "id": "154e75f5",
   "metadata": {},
   "outputs": [
    {
     "name": "stdout",
     "output_type": "stream",
     "text": [
      "15\n"
     ]
    }
   ],
   "source": [
    "count=0\n",
    "for i in range(1,6):\n",
    "    count +=i\n",
    "print(count)"
   ]
  },
  {
   "cell_type": "code",
   "execution_count": 38,
   "id": "2659cc31",
   "metadata": {},
   "outputs": [
    {
     "name": "stdout",
     "output_type": "stream",
     "text": [
      "10\n",
      "9\n",
      "8\n",
      "7\n",
      "6\n",
      "5\n",
      "4\n",
      "3\n",
      "2\n",
      "1\n"
     ]
    }
   ],
   "source": [
    "for i in range(10,0,-1):\n",
    "    print(i)"
   ]
  },
  {
   "cell_type": "markdown",
   "id": "27d6efd2",
   "metadata": {},
   "source": [
    "# while loop"
   ]
  },
  {
   "cell_type": "code",
   "execution_count": 39,
   "id": "f15463a1",
   "metadata": {},
   "outputs": [
    {
     "name": "stdout",
     "output_type": "stream",
     "text": [
      "12\n",
      "24\n",
      "36\n",
      "48\n",
      "60\n",
      "72\n",
      "84\n",
      "96\n",
      "108\n",
      "120\n"
     ]
    }
   ],
   "source": [
    "# a = 0\n",
    "# while a<10:\n",
    "#     print(a)\n",
    "#     a +=4\n",
    "num =12\n",
    "a = 1\n",
    "while a<=10:\n",
    "    \n",
    "    print(num*a)\n",
    "    a +=1\n",
    " \n",
    "    "
   ]
  },
  {
   "cell_type": "code",
   "execution_count": 40,
   "id": "482e9096",
   "metadata": {},
   "outputs": [
    {
     "name": "stdout",
     "output_type": "stream",
     "text": [
      "enter the number: 23\n",
      "enter the number: 23343\n",
      "23366\n",
      "536889\n",
      "do you want to add more number? (yes/no):no\n"
     ]
    }
   ],
   "source": [
    "repeat=\"yes\"\n",
    "while repeat==\"yes\":\n",
    "    num1 = int(input(\"enter the number: \"))\n",
    "    num2 = int(input(\"enter the number: \"))\n",
    "    print(num1+num2)\n",
    "    print(num1*num2)\n",
    "    repeat =input(\"do you want to add more number? (yes/no):\")"
   ]
  },
  {
   "cell_type": "code",
   "execution_count": 41,
   "id": "77f86e5a",
   "metadata": {},
   "outputs": [
    {
     "name": "stdout",
     "output_type": "stream",
     "text": [
      "650\n"
     ]
    }
   ],
   "source": [
    "a=0\n",
    "sum=0\n",
    "while a<=50:\n",
    "    sum+=a\n",
    "    a+=2\n",
    "print(sum)"
   ]
  },
  {
   "cell_type": "code",
   "execution_count": 42,
   "id": "9336614a",
   "metadata": {},
   "outputs": [
    {
     "name": "stdout",
     "output_type": "stream",
     "text": [
      "Enter the number: 22\n",
      "Enter the number: 22\n",
      "44\n",
      "do you want to add more: no\n"
     ]
    }
   ],
   "source": [
    "while True:\n",
    "    num1 =int(input(\"Enter the number: \"))\n",
    "    num2 =int(input(\"Enter the number: \"))\n",
    "    print(num1 +num2)\n",
    "    repeat=input(\"do you want to add more: \")\n",
    "    if repeat in [\"no\", \"No\",\"NO\"]:\n",
    "    \n",
    "     break"
   ]
  },
  {
   "cell_type": "code",
   "execution_count": 43,
   "id": "3a4c4a03",
   "metadata": {},
   "outputs": [
    {
     "name": "stdout",
     "output_type": "stream",
     "text": [
      "Enter the number: 90\n",
      "Enter the number: 39\n",
      "not divisible \n"
     ]
    }
   ],
   "source": [
    "num1 =int(input(\"Enter the number: \"))\n",
    "num2 =int(input(\"Enter the number: \"))\n",
    "if num1 %num2==0:\n",
    "    print(\"divisible \")\n",
    "else:\n",
    "    print(\"not divisible \")"
   ]
  },
  {
   "cell_type": "code",
   "execution_count": 44,
   "id": "f4670ddb",
   "metadata": {},
   "outputs": [
    {
     "name": "stdout",
     "output_type": "stream",
     "text": [
      "5\n"
     ]
    }
   ],
   "source": [
    "a = \"Rajeev rai\"\n",
    "count =0\n",
    "for i in a:\n",
    "    if i in \"aeiou\":\n",
    "        count +=1\n",
    "print(count)"
   ]
  },
  {
   "cell_type": "markdown",
   "id": "36090ca2",
   "metadata": {},
   "source": [
    "# Nested loop"
   ]
  },
  {
   "cell_type": "code",
   "execution_count": 45,
   "id": "fadee6c7",
   "metadata": {},
   "outputs": [
    {
     "name": "stdout",
     "output_type": "stream",
     "text": [
      "1 2 3 4 5 6 7 8 9 10 \n",
      "1 2 3 4 5 6 7 8 9 10 \n",
      "1 2 3 4 5 6 7 8 9 10 \n"
     ]
    }
   ],
   "source": [
    "for j in range(1,4):\n",
    "    \n",
    "    for i in range(1,11):\n",
    "        print(i,end=\" \")\n",
    "    print()\n",
    "    "
   ]
  },
  {
   "cell_type": "code",
   "execution_count": 46,
   "id": "126ff3e8",
   "metadata": {},
   "outputs": [
    {
     "name": "stdout",
     "output_type": "stream",
     "text": [
      "customer's name: atul\n",
      "enter quantity: 33\n",
      "enter price: 233\n",
      "do you want to add more items? (yes/no): no\n",
      "-----------------------------------\n",
      "customer's name:  atul\n",
      "payable Amount:  7689.0\n",
      "next person? no\n"
     ]
    }
   ],
   "source": [
    "# mini project\n",
    "while True:\n",
    "    \n",
    "    name=input(\"customer's name: \")\n",
    "    total =0\n",
    "    while True:\n",
    "        quantity = float(input(\"enter quantity: \"))\n",
    "        amount = float(input(\"enter price: \"))\n",
    "        total +=quantity*amount\n",
    "        items=input(\"do you want to add more items? (yes/no): \")\n",
    "        if items ==\"no\":\n",
    "            break\n",
    "    print(\"-\"*35)\n",
    "    print(\"customer's name: \",name)\n",
    "    print(\"payable Amount: \",total)\n",
    "    repeat =input(\"next person? \")\n",
    "    if repeat ==\"no\":\n",
    "        break"
   ]
  },
  {
   "cell_type": "code",
   "execution_count": 47,
   "id": "fbb8b708",
   "metadata": {},
   "outputs": [
    {
     "name": "stdout",
     "output_type": "stream",
     "text": [
      "enter seats: 33\n",
      "3300\n",
      "67\n"
     ]
    }
   ],
   "source": [
    "total=100\n",
    "seats=int(input(\"enter seats: \"))\n",
    "amount=(seats*100)\n",
    "print(amount)\n",
    "total -=seats\n",
    "print(total)"
   ]
  },
  {
   "cell_type": "markdown",
   "id": "c91bf4fd",
   "metadata": {},
   "source": [
    "# indexing string"
   ]
  },
  {
   "cell_type": "code",
   "execution_count": 48,
   "id": "23d6fbf0",
   "metadata": {},
   "outputs": [
    {
     "name": "stdout",
     "output_type": "stream",
     "text": [
      "i\n"
     ]
    }
   ],
   "source": [
    "a =\"Rajeev Rai\"\n",
    "print(a[-1])"
   ]
  },
  {
   "cell_type": "markdown",
   "id": "09b2716d",
   "metadata": {},
   "source": [
    "# Slicing"
   ]
  },
  {
   "cell_type": "code",
   "execution_count": 49,
   "id": "6c896b96",
   "metadata": {},
   "outputs": [
    {
     "name": "stdout",
     "output_type": "stream",
     "text": [
      "Rajeev\n"
     ]
    }
   ],
   "source": [
    "print(a[0:6])"
   ]
  },
  {
   "cell_type": "code",
   "execution_count": 50,
   "id": "d3f69be7",
   "metadata": {},
   "outputs": [
    {
     "name": "stdout",
     "output_type": "stream",
     "text": [
      "Rajeev rai is going \n",
      "Rajeev rai is going to market. \n",
      "Rje a sgigt akt \n",
      " .tekram ot gniog si iar veejaR\n"
     ]
    }
   ],
   "source": [
    "a= \"Rajeev rai is going to market. \"\n",
    "print(a[0:20])\n",
    "print(a[::1])\n",
    "print(a[::2])\n",
    "print(a[::-1])"
   ]
  },
  {
   "cell_type": "code",
   "execution_count": 51,
   "id": "18068cd9",
   "metadata": {},
   "outputs": [
    {
     "name": "stdout",
     "output_type": "stream",
     "text": [
      "87654321\n"
     ]
    }
   ],
   "source": [
    "a=\"12345678\"\n",
    "print(a[::-1])"
   ]
  },
  {
   "cell_type": "markdown",
   "id": "6ae879a6",
   "metadata": {},
   "source": [
    "# upper case, lower case and Swap case"
   ]
  },
  {
   "cell_type": "code",
   "execution_count": 52,
   "id": "30070f70",
   "metadata": {},
   "outputs": [
    {
     "name": "stdout",
     "output_type": "stream",
     "text": [
      "RAJEEV RAI IS A GOOD STUDENT: \n",
      "rajeev rai is a good student: \n"
     ]
    }
   ],
   "source": [
    "a=\"Rajeev rai is a good student: \"\n",
    "print(a.upper())\n",
    "print(a.lower())"
   ]
  },
  {
   "cell_type": "code",
   "execution_count": 53,
   "id": "457c486b",
   "metadata": {},
   "outputs": [
    {
     "name": "stdout",
     "output_type": "stream",
     "text": [
      "rAJEEV RAI IS A GOOD STUDENT: \n"
     ]
    }
   ],
   "source": [
    "print(a.swapcase())"
   ]
  },
  {
   "cell_type": "code",
   "execution_count": 54,
   "id": "6a1ad39e",
   "metadata": {},
   "outputs": [
    {
     "name": "stdout",
     "output_type": "stream",
     "text": [
      "Rajeev Rai Is A Good Student: \n"
     ]
    }
   ],
   "source": [
    "print(a.title())"
   ]
  },
  {
   "cell_type": "code",
   "execution_count": 55,
   "id": "6a6a734f",
   "metadata": {},
   "outputs": [
    {
     "name": "stdout",
     "output_type": "stream",
     "text": [
      "7\n"
     ]
    }
   ],
   "source": [
    "print(a.index(\"r\"))"
   ]
  },
  {
   "cell_type": "code",
   "execution_count": 56,
   "id": "e6087c0d",
   "metadata": {},
   "outputs": [
    {
     "name": "stdout",
     "output_type": "stream",
     "text": [
      "True\n",
      "True\n",
      "True\n"
     ]
    }
   ],
   "source": [
    "a=\"Rajeev\"\n",
    "b=\"Atul\"\n",
    "c=\"123456\"\n",
    "d=\" \"\n",
    "print(a.isalpha())\n",
    "print(b.isalpha())\n",
    "print(c.isalnum())"
   ]
  },
  {
   "cell_type": "code",
   "execution_count": 57,
   "id": "c689659d",
   "metadata": {},
   "outputs": [
    {
     "name": "stdout",
     "output_type": "stream",
     "text": [
      "top\n"
     ]
    }
   ],
   "source": [
    "a=\"tip\"\n",
    "print(a.replace('i','o'))"
   ]
  },
  {
   "cell_type": "code",
   "execution_count": 58,
   "id": "957951ba",
   "metadata": {},
   "outputs": [
    {
     "name": "stdout",
     "output_type": "stream",
     "text": [
      "Rajeev\n"
     ]
    }
   ],
   "source": [
    "a=(\"Rajwev\")\n",
    "print(a.replace('w','e'))"
   ]
  },
  {
   "cell_type": "code",
   "execution_count": 59,
   "id": "6deb299d",
   "metadata": {},
   "outputs": [
    {
     "name": "stdout",
     "output_type": "stream",
     "text": [
      "90000\n"
     ]
    }
   ],
   "source": [
    "a=\"900,00\"\n",
    "print(a.replace(',',''))"
   ]
  },
  {
   "cell_type": "code",
   "execution_count": 60,
   "id": "52678385",
   "metadata": {},
   "outputs": [
    {
     "name": "stdout",
     "output_type": "stream",
     "text": [
      " Rajeev \n",
      "Rajeev\n"
     ]
    }
   ],
   "source": [
    "a=\" Rajeev \"\n",
    "print(a)\n",
    "print(a.strip()) # strip=space ko remove karne ke liye use kiya jata hai"
   ]
  },
  {
   "cell_type": "code",
   "execution_count": 61,
   "id": "291d7874",
   "metadata": {},
   "outputs": [
    {
     "name": "stdout",
     "output_type": "stream",
     "text": [
      "Atul rai- Rajeev\n"
     ]
    }
   ],
   "source": [
    "a=\"Atul rai- Rajeev\"\n",
    "print(a.strip(\"\"))"
   ]
  },
  {
   "cell_type": "code",
   "execution_count": 62,
   "id": "eefcd8e9",
   "metadata": {},
   "outputs": [
    {
     "name": "stdout",
     "output_type": "stream",
     "text": [
      "30\n"
     ]
    }
   ],
   "source": [
    "a=\"Rajeev rai is a good student: \"\n",
    "print(len(a))"
   ]
  },
  {
   "cell_type": "code",
   "execution_count": 63,
   "id": "42b93bae",
   "metadata": {},
   "outputs": [
    {
     "name": "stdout",
     "output_type": "stream",
     "text": [
      "30\n"
     ]
    }
   ],
   "source": [
    "l=0\n",
    "for i in a:\n",
    "    l+=1\n",
    "print(l)"
   ]
  },
  {
   "cell_type": "code",
   "execution_count": 64,
   "id": "a4ad5ec7",
   "metadata": {},
   "outputs": [
    {
     "name": "stdout",
     "output_type": "stream",
     "text": [
      "6\n"
     ]
    }
   ],
   "source": [
    "c=0\n",
    "for i in a:\n",
    "    if i==\" \":\n",
    "        c+=1\n",
    "print(c)        "
   ]
  },
  {
   "cell_type": "code",
   "execution_count": 65,
   "id": "efe2917b",
   "metadata": {},
   "outputs": [
    {
     "name": "stdout",
     "output_type": "stream",
     "text": [
      "enter a word: rsa\n",
      "no\n"
     ]
    }
   ],
   "source": [
    "# write a program to check if the string given by the user has both 1st and last character same\n",
    "word=input(\"enter a word: \")\n",
    "if word[0]==word[-1]:\n",
    "    print(\"yes\")\n",
    "else:    \n",
    "    print(\"no\")"
   ]
  },
  {
   "cell_type": "code",
   "execution_count": 66,
   "id": "f8403ebe",
   "metadata": {},
   "outputs": [
    {
     "name": "stdout",
     "output_type": "stream",
     "text": [
      "['pop', 'top']\n"
     ]
    }
   ],
   "source": [
    "a=[\"top\",\"pop\"]\n",
    "a[0],a[-1]=a[-1],a[0]\n",
    "print(a)"
   ]
  },
  {
   "cell_type": "code",
   "execution_count": 67,
   "id": "74ed2375",
   "metadata": {},
   "outputs": [
    {
     "name": "stdout",
     "output_type": "stream",
     "text": [
      "t p\n"
     ]
    }
   ],
   "source": [
    "a=\"top\"\n",
    "print(a.replace(\"o\",\" \"))"
   ]
  },
  {
   "cell_type": "code",
   "execution_count": 68,
   "id": "e176dd6c",
   "metadata": {},
   "outputs": [
    {
     "name": "stdout",
     "output_type": "stream",
     "text": [
      "i am not sure Raj\n",
      "i am not sure Raj\n"
     ]
    }
   ],
   "source": [
    "A=\"Raj\"\n",
    "print(\"i am not sure\",A)\n",
    "print(f\"i am not sure {A}\")"
   ]
  },
  {
   "cell_type": "markdown",
   "id": "b7d57dad",
   "metadata": {},
   "source": [
    "# List"
   ]
  },
  {
   "cell_type": "code",
   "execution_count": 69,
   "id": "3e410070",
   "metadata": {},
   "outputs": [
    {
     "name": "stdout",
     "output_type": "stream",
     "text": [
      "['farmers', 'kisan']\n"
     ]
    }
   ],
   "source": [
    "a=[\"farmers\",\"kisan\"]\n",
    "print(a)"
   ]
  },
  {
   "cell_type": "code",
   "execution_count": 70,
   "id": "350ac9e8",
   "metadata": {},
   "outputs": [
    {
     "name": "stdout",
     "output_type": "stream",
     "text": [
      "farmers\n"
     ]
    }
   ],
   "source": [
    "print(a[0])"
   ]
  },
  {
   "cell_type": "code",
   "execution_count": 71,
   "id": "c82cf233",
   "metadata": {},
   "outputs": [
    {
     "name": "stdout",
     "output_type": "stream",
     "text": [
      "['kisan', 'farmers']\n"
     ]
    }
   ],
   "source": [
    "print(a[::-1])"
   ]
  },
  {
   "cell_type": "markdown",
   "id": "3475db87",
   "metadata": {},
   "source": [
    "# Iteration in list"
   ]
  },
  {
   "cell_type": "markdown",
   "id": "3dc57934",
   "metadata": {},
   "source": [
    "for i in a:\n",
    "    print(i)"
   ]
  },
  {
   "cell_type": "code",
   "execution_count": 72,
   "id": "182526ed",
   "metadata": {},
   "outputs": [
    {
     "name": "stdout",
     "output_type": "stream",
     "text": [
      "3\n",
      "3\n",
      "5\n",
      "7\n",
      "75\n",
      "23\n"
     ]
    }
   ],
   "source": [
    "nums=[3,4,56,46,3,2,5,7,75,23]\n",
    "for i in nums:\n",
    "    if i%2!=0:\n",
    "        print(i)\n"
   ]
  },
  {
   "cell_type": "code",
   "execution_count": 73,
   "id": "5d1de481",
   "metadata": {},
   "outputs": [
    {
     "name": "stdout",
     "output_type": "stream",
     "text": [
      "224\n"
     ]
    }
   ],
   "source": [
    "sum=0\n",
    "for i in nums:\n",
    "    sum+=i\n",
    "print(sum)"
   ]
  },
  {
   "cell_type": "code",
   "execution_count": 74,
   "id": "4e820fbd",
   "metadata": {},
   "outputs": [
    {
     "name": "stdout",
     "output_type": "stream",
     "text": [
      "10\n"
     ]
    }
   ],
   "source": [
    "c=0\n",
    "for i in nums:\n",
    "    c+=1\n",
    "print(c)"
   ]
  },
  {
   "cell_type": "code",
   "execution_count": 75,
   "id": "e9abceec",
   "metadata": {},
   "outputs": [
    {
     "name": "stdout",
     "output_type": "stream",
     "text": [
      "[3, 4, 56, 46, 3, 2, 5, 7, 75, 23, 45]\n"
     ]
    }
   ],
   "source": [
    "nums.append(45)\n",
    "print(nums)"
   ]
  },
  {
   "cell_type": "code",
   "execution_count": 78,
   "id": "fe77e3dd",
   "metadata": {},
   "outputs": [
    {
     "name": "stdout",
     "output_type": "stream",
     "text": [
      "[3, 4, 56, 46, 3, 2, 7, 75, 23, 45]\n"
     ]
    }
   ],
   "source": [
    "nums.remove(5)\n",
    "print(nums)"
   ]
  },
  {
   "cell_type": "code",
   "execution_count": 79,
   "id": "49bc830a",
   "metadata": {},
   "outputs": [
    {
     "name": "stdout",
     "output_type": "stream",
     "text": [
      "['Rajeev', 3, 4, 56, 46, 3, 2, 7, 75, 23, 45]\n"
     ]
    }
   ],
   "source": [
    "nums.insert(0,\"Rajeev\")\n",
    "print(nums)\n"
   ]
  },
  {
   "cell_type": "code",
   "execution_count": 80,
   "id": "a5f9c318",
   "metadata": {},
   "outputs": [
    {
     "name": "stdout",
     "output_type": "stream",
     "text": [
      "[3, 4, 56, 46, 3, 2, 7, 75, 23, 45]\n"
     ]
    }
   ],
   "source": [
    "nums.pop(0)\n",
    "print(nums)"
   ]
  },
  {
   "cell_type": "code",
   "execution_count": 81,
   "id": "fb778f4c",
   "metadata": {},
   "outputs": [
    {
     "name": "stdout",
     "output_type": "stream",
     "text": [
      "[4, 3, 7, 90]\n"
     ]
    }
   ],
   "source": [
    "n=[4, 56, 46, 3, 2, 5, 7, 75, 23, 90]\n",
    "print(n[::3])"
   ]
  },
  {
   "cell_type": "code",
   "execution_count": 82,
   "id": "ac5b983c",
   "metadata": {},
   "outputs": [
    {
     "name": "stdout",
     "output_type": "stream",
     "text": [
      "[56, 46, 3, 2, 5, 7, 75, 23, 90]\n"
     ]
    }
   ],
   "source": [
    "n.pop(0) #pop index par work karta hai and remove value ke base par use karte hai\n",
    "print(n)"
   ]
  },
  {
   "cell_type": "code",
   "execution_count": 83,
   "id": "c4779fac",
   "metadata": {},
   "outputs": [
    {
     "name": "stdout",
     "output_type": "stream",
     "text": [
      "\n",
      "press 1 to add the item\n",
      "press 2 to remove the item\n",
      "press 3 to display the item\n",
      "enter your choice: 1\n",
      "enter item: rice\n",
      "repeat again? (yes/no)no\n"
     ]
    }
   ],
   "source": [
    "grocery=[]\n",
    "print(\"\"\"\n",
    "press 1 to add the item\n",
    "press 2 to remove the item\n",
    "press 3 to display the item\"\"\")\n",
    "while True:\n",
    "    \n",
    "    choice=int(input(\"enter your choice: \"))\n",
    "    if choice ==1:\n",
    "        item=input(\"enter item: \").capitalize()\n",
    "        grocery.append(item)\n",
    "    elif choice==2:\n",
    "        item=input(\"enter item: \").capitalize()\n",
    "        grocery.remove(item)\n",
    "    else:\n",
    "        if len(grocery)==0:\n",
    "            print(\"no items available: \")\n",
    "        else:\n",
    "            print(grocery)\n",
    "    repeat=input(\"repeat again? (yes/no)\")\n",
    "    if repeat=='no':\n",
    "            \n",
    "        break"
   ]
  },
  {
   "cell_type": "code",
   "execution_count": 84,
   "id": "7399f482",
   "metadata": {},
   "outputs": [
    {
     "name": "stdout",
     "output_type": "stream",
     "text": [
      "10\n",
      "2\n"
     ]
    }
   ],
   "source": [
    "n=[4,5,6,3,5,7,4,7,8,9]\n",
    "print(len(n))\n",
    "print(n.count(4))"
   ]
  },
  {
   "cell_type": "code",
   "execution_count": 85,
   "id": "6b42b2b8",
   "metadata": {},
   "outputs": [
    {
     "name": "stdout",
     "output_type": "stream",
     "text": [
      "3\n"
     ]
    }
   ],
   "source": [
    "print(min(n))\n"
   ]
  },
  {
   "cell_type": "code",
   "execution_count": 86,
   "id": "b81cf0dd",
   "metadata": {},
   "outputs": [
    {
     "name": "stdout",
     "output_type": "stream",
     "text": [
      "58\n"
     ]
    }
   ],
   "source": [
    "sum=0\n",
    "for i in n:\n",
    "    sum+=i\n",
    "print(sum)"
   ]
  },
  {
   "cell_type": "code",
   "execution_count": 87,
   "id": "8dde829f",
   "metadata": {},
   "outputs": [
    {
     "name": "stdout",
     "output_type": "stream",
     "text": [
      "[3, 4, 4, 5, 5, 6, 7, 7, 8, 9]\n"
     ]
    }
   ],
   "source": [
    "n=[4,5,6,3,5,7,4,7,8,9]\n",
    "n.sort()\n",
    "print(n)"
   ]
  },
  {
   "cell_type": "code",
   "execution_count": 88,
   "id": "b125abb4",
   "metadata": {},
   "outputs": [
    {
     "name": "stdout",
     "output_type": "stream",
     "text": [
      "3\n",
      "9\n"
     ]
    }
   ],
   "source": [
    "print(n[0])\n",
    "print(n[-1])"
   ]
  },
  {
   "cell_type": "code",
   "execution_count": 89,
   "id": "d236d7d1",
   "metadata": {},
   "outputs": [
    {
     "name": "stdout",
     "output_type": "stream",
     "text": [
      "['civic']\n"
     ]
    }
   ],
   "source": [
    "word=[\"Rajeev\",\"Ravipurbiya\",\"civic\",\"rampura\"]\n",
    "l=[]\n",
    "for i in word:\n",
    "    if len(i)>=5 and i[0]==i[-1]:\n",
    "        l.append(i)\n",
    "print(l)\n",
    "        "
   ]
  },
  {
   "cell_type": "code",
   "execution_count": 90,
   "id": "4bd3d66a",
   "metadata": {},
   "outputs": [
    {
     "name": "stdout",
     "output_type": "stream",
     "text": [
      "['Raj', 'Ravi', 'abhi', 'Rajeev']\n"
     ]
    }
   ],
   "source": [
    "a=[\"Raj\",\"Ravi\",\"abhi\"]\n",
    "a.append(\"Rajeev\")\n",
    "print(a)"
   ]
  },
  {
   "cell_type": "code",
   "execution_count": 91,
   "id": "43fa1c7b",
   "metadata": {},
   "outputs": [
    {
     "name": "stdout",
     "output_type": "stream",
     "text": [
      "['Raj', 'Rajeev', 'Ravi', 'abhi']\n"
     ]
    }
   ],
   "source": [
    "a=[\"Raj\",\"Ravi\",\"abhi\"]\n",
    "a.insert(1,\"Rajeev\")\n",
    "print(a)"
   ]
  },
  {
   "cell_type": "code",
   "execution_count": 92,
   "id": "47de4a56",
   "metadata": {},
   "outputs": [
    {
     "name": "stdout",
     "output_type": "stream",
     "text": [
      "15\n"
     ]
    }
   ],
   "source": [
    "a= [1,2,3,4,5]\n",
    "count=0\n",
    "for i in a:\n",
    "    \n",
    "        count+=i\n",
    "print(count)\n",
    "    "
   ]
  },
  {
   "cell_type": "code",
   "execution_count": 94,
   "id": "40ebcb16",
   "metadata": {},
   "outputs": [
    {
     "name": "stdout",
     "output_type": "stream",
     "text": [
      "[1, 2, 3, 4, 5, 6]\n"
     ]
    }
   ],
   "source": [
    "# a=\"Hello Rajeev how are you\"\n",
    "a=[1,2,3,4,5]\n",
    "a.append(6)\n",
    "print(a)\n"
   ]
  },
  {
   "cell_type": "code",
   "execution_count": 96,
   "id": "7d48f7ab",
   "metadata": {},
   "outputs": [
    {
     "name": "stdout",
     "output_type": "stream",
     "text": [
      "HELLO RAJEEV HOW ARE YOU\n",
      "Hello Rajeev How Are You\n",
      "hello rajeev how are you\n"
     ]
    }
   ],
   "source": [
    "a=\"Hello Rajeev how are you\"\n",
    "print(a.upper())\n",
    "print(a.title())\n",
    "print(a.lower())"
   ]
  },
  {
   "cell_type": "code",
   "execution_count": 3,
   "id": "78854e76",
   "metadata": {},
   "outputs": [
    {
     "name": "stdout",
     "output_type": "stream",
     "text": [
      "RAJeev rai\n"
     ]
    }
   ],
   "source": [
    "a = 'Rajeev Rai'\n",
    "print(a[0:3].upper() + a[3:].lower())"
   ]
  },
  {
   "cell_type": "code",
   "execution_count": 15,
   "id": "1cc1b175",
   "metadata": {},
   "outputs": [
    {
     "name": "stdout",
     "output_type": "stream",
     "text": [
      "[6, 2, 3, 4, 5, 1]\n"
     ]
    }
   ],
   "source": [
    "a= [1,2,3,4,5,6]\n",
    "t=a[0]\n",
    "a[0]=a[-1]\n",
    "a[-1]=t\n",
    "print(a)"
   ]
  },
  {
   "cell_type": "code",
   "execution_count": 14,
   "id": "94703c73",
   "metadata": {},
   "outputs": [
    {
     "name": "stdout",
     "output_type": "stream",
     "text": [
      "[6, 2, 3, 4, 5, 1]\n"
     ]
    }
   ],
   "source": [
    "a= [1,2,3,4,5,6]\n",
    "a[0],a[-1]=a[-1],a[0]\n",
    "print(a)"
   ]
  },
  {
   "cell_type": "markdown",
   "id": "1923abdd",
   "metadata": {},
   "source": [
    "# Dictionary"
   ]
  },
  {
   "cell_type": "code",
   "execution_count": 47,
   "id": "2e120516",
   "metadata": {},
   "outputs": [
    {
     "name": "stdout",
     "output_type": "stream",
     "text": [
      "{'name': 'Rajeev', 'class': 'mca', 'Age': '22', 'Education': 'b.tech'}\n"
     ]
    }
   ],
   "source": [
    "student = {\"name\":\"Rajeev\",\"name1\":\"Atul\",\"class\":\"mca\",\"Age\":\"22\"} # values duplicate ho sakti hai par keys duplicate nahi honi chahiye \n",
    "\n",
    "student[\"Education\"]=\"b.tech\"\n",
    "# print(student)\n",
    "# print(student.keys())\n",
    "# print(student.values())\n",
    "del student[\"name1\"]\n",
    "print(student)"
   ]
  },
  {
   "cell_type": "code",
   "execution_count": 30,
   "id": "327b6d9c",
   "metadata": {},
   "outputs": [
    {
     "name": "stdout",
     "output_type": "stream",
     "text": [
      "name = Rajeev\n",
      "name1 = Atul\n",
      "class = mca\n",
      "Age = 22\n",
      "Education = b.tech\n"
     ]
    }
   ],
   "source": [
    "for i,j in student.items():\n",
    "    print(i,'=',j)"
   ]
  },
  {
   "cell_type": "code",
   "execution_count": 53,
   "id": "7a24fee1",
   "metadata": {},
   "outputs": [
    {
     "name": "stdout",
     "output_type": "stream",
     "text": [
      "\n",
      "press 1 to insert\n",
      "press 2 to view keys \n",
      "press 3 to view values\n",
      "press 4 to view dict\n",
      "press 5 to del\n",
      "enter your choice 1-4: 1\n",
      "enter players name :Rajeev\n",
      "enter team name: 1\n",
      "repeat again? (yes/no)Rajeev\n",
      "enter your choice 1-4: 2\n",
      "dict_keys(['Rajeev'])\n",
      "repeat again? (yes/no)no\n"
     ]
    }
   ],
   "source": [
    "db = {}\n",
    "print(\"\"\"\n",
    "press 1 to insert\n",
    "press 2 to view keys \n",
    "press 3 to view values\n",
    "press 4 to view dict\n",
    "press 5 to del\"\"\")\n",
    "while True:\n",
    "    choice =int(input(\"enter your choice 1-4: \"))\n",
    "    if choice ==1:\n",
    "        player =input(\"enter players name :\")\n",
    "        team=input(\"enter team name: \")\n",
    "\n",
    "        db[player]=team\n",
    "    elif choice ==2:\n",
    "        print(db.keys())\n",
    "    elif choice ==3:\n",
    "        print(db.values())\n",
    "    elif choice ==4:\n",
    "        for i,j in db.items():\n",
    "            print(i,\":\",j)\n",
    "    elif choice==5:\n",
    "        player = input(\"enter players name:  \")\n",
    "        del db[player]\n",
    "    else:\n",
    "        print(\"invalid input\")\n",
    "    repeat=input(\"repeat again? (yes/no)\")\n",
    "    if repeat=='no':\n",
    "            \n",
    "        break    \n"
   ]
  },
  {
   "cell_type": "code",
   "execution_count": 57,
   "id": "3b873ed1",
   "metadata": {},
   "outputs": [
    {
     "name": "stdout",
     "output_type": "stream",
     "text": [
      "Rajeev male\n"
     ]
    }
   ],
   "source": [
    "company={\"Emp_id\":\"E001\",\"name\":\"Rajeev\",\"gender\":\"male\",\"salary\":25000}\n",
    "print(company[\"name\"],company[\"gender\"])"
   ]
  },
  {
   "cell_type": "code",
   "execution_count": 72,
   "id": "42e52b48",
   "metadata": {},
   "outputs": [
    {
     "name": "stdout",
     "output_type": "stream",
     "text": [
      "Raj\n"
     ]
    }
   ],
   "source": [
    "company={\"E001\":{\"name\":\"Rajeev\",\"gender\":\"male\"},\n",
    "         \"E002\":{\"name\":\"Raj\",\"gender\":\"male\"},\n",
    "         \"E003\":{\"name\":\"Atul\",\"gender\":\"male\"}}\n",
    "\n",
    "print(company[\"E002\"][\"name\"])"
   ]
  },
  {
   "cell_type": "code",
   "execution_count": 73,
   "id": "aab2109f",
   "metadata": {},
   "outputs": [
    {
     "data": {
      "text/html": [
       "<div>\n",
       "<style scoped>\n",
       "    .dataframe tbody tr th:only-of-type {\n",
       "        vertical-align: middle;\n",
       "    }\n",
       "\n",
       "    .dataframe tbody tr th {\n",
       "        vertical-align: top;\n",
       "    }\n",
       "\n",
       "    .dataframe thead th {\n",
       "        text-align: right;\n",
       "    }\n",
       "</style>\n",
       "<table border=\"1\" class=\"dataframe\">\n",
       "  <thead>\n",
       "    <tr style=\"text-align: right;\">\n",
       "      <th></th>\n",
       "      <th>name</th>\n",
       "      <th>gender</th>\n",
       "      <th>Age</th>\n",
       "    </tr>\n",
       "  </thead>\n",
       "  <tbody>\n",
       "    <tr>\n",
       "      <th>0</th>\n",
       "      <td>Rajeev</td>\n",
       "      <td>male</td>\n",
       "      <td>32</td>\n",
       "    </tr>\n",
       "    <tr>\n",
       "      <th>1</th>\n",
       "      <td>Raj</td>\n",
       "      <td>male</td>\n",
       "      <td>22</td>\n",
       "    </tr>\n",
       "    <tr>\n",
       "      <th>2</th>\n",
       "      <td>Atul</td>\n",
       "      <td>male</td>\n",
       "      <td>33</td>\n",
       "    </tr>\n",
       "  </tbody>\n",
       "</table>\n",
       "</div>"
      ],
      "text/plain": [
       "     name gender Age\n",
       "0  Rajeev   male  32\n",
       "1     Raj   male  22\n",
       "2    Atul   male  33"
      ]
     },
     "execution_count": 73,
     "metadata": {},
     "output_type": "execute_result"
    }
   ],
   "source": [
    "Company={\"name\":[\"Rajeev\",\"Raj\",\"Atul\"],\n",
    "        \"gender\":[\"male\",\"male\",\"male\"],\n",
    "        \"Age\":[\"32\",\"22\",\"33\"]}\n",
    "import pandas as pd\n",
    "df = pd.DataFrame(Company)\n",
    "df"
   ]
  },
  {
   "cell_type": "markdown",
   "id": "554da790",
   "metadata": {},
   "source": [
    "# Tuples "
   ]
  },
  {
   "cell_type": "markdown",
   "id": "89b85feb",
   "metadata": {},
   "source": [
    "# Tuples are the collection of order and un-mutable data.for tuples no brackets are mandatry.\n",
    "# By choice one can use parenthesis."
   ]
  },
  {
   "cell_type": "code",
   "execution_count": 74,
   "id": "e167c7c0",
   "metadata": {},
   "outputs": [
    {
     "name": "stdout",
     "output_type": "stream",
     "text": [
      "('apple', 'banana', 'mango')\n",
      "<class 'tuple'>\n"
     ]
    }
   ],
   "source": [
    "fruits=\"apple\",\"banana\",\"mango\"\n",
    "print(fruits)\n",
    "print(type(fruits))"
   ]
  },
  {
   "cell_type": "code",
   "execution_count": 79,
   "id": "54c37ed2",
   "metadata": {},
   "outputs": [
    {
     "name": "stdout",
     "output_type": "stream",
     "text": [
      "<class 'list'>\n",
      "<class 'tuple'>\n",
      "<class 'tuple'>\n"
     ]
    }
   ],
   "source": [
    "a=[\"mango\"]\n",
    "print(type(a))\n",
    "b=(\"banana\")\n",
    "\n",
    "print(type(b))\n",
    "c=(435,)\n",
    "print(type(c))"
   ]
  },
  {
   "cell_type": "code",
   "execution_count": 3,
   "id": "5fba7b28",
   "metadata": {},
   "outputs": [
    {
     "name": "stdout",
     "output_type": "stream",
     "text": [
      "<class 'tuple'>\n",
      "<class 'str'>\n"
     ]
    }
   ],
   "source": [
    "a=(\"banana\",)\n",
    "print(type(a))\n",
    "a=str(a)\n",
    "print(type(a)) # python khud convert karta hai to use \n",
    "# ham implicit casting hota hai"
   ]
  },
  {
   "cell_type": "code",
   "execution_count": 4,
   "id": "f594782b",
   "metadata": {},
   "outputs": [
    {
     "name": "stdout",
     "output_type": "stream",
     "text": [
      "23.0\n",
      "23.0\n"
     ]
    }
   ],
   "source": [
    "a=23\n",
    "a=float(a)\n",
    "print(a)\n",
    "b=\"23\"\n",
    "b=float(b)\n",
    "print(b) # jab ham convert karte hai use xplecit kahte hai \n"
   ]
  },
  {
   "cell_type": "code",
   "execution_count": 9,
   "id": "008da5f3",
   "metadata": {},
   "outputs": [
    {
     "name": "stdout",
     "output_type": "stream",
     "text": [
      "(20, 30, 40)\n",
      "<class 'tuple'>\n",
      "[20, 30, 40]\n",
      "<class 'list'>\n"
     ]
    }
   ],
   "source": [
    "# write a program in tuple\n",
    "a=20,30,40\n",
    "print(a)\n",
    "print(type(a))\n",
    "a=list(a)\n",
    "print(a)\n",
    "print(type(a))"
   ]
  },
  {
   "cell_type": "code",
   "execution_count": 13,
   "id": "ff3b0385",
   "metadata": {},
   "outputs": [
    {
     "name": "stdout",
     "output_type": "stream",
     "text": [
      "[20, 30, 40, 50, 50, 60]\n"
     ]
    }
   ],
   "source": [
    "a.append(60)\n",
    "print(a)"
   ]
  },
  {
   "cell_type": "markdown",
   "id": "f3e7ce50",
   "metadata": {},
   "source": [
    "# Sets"
   ]
  },
  {
   "cell_type": "markdown",
   "id": "1f872ec1",
   "metadata": {},
   "source": [
    "# Sets are unordered collection of data.Every element inside the set is unique and mutable.Sets are written inside the curly brackets."
   ]
  },
  {
   "cell_type": "code",
   "execution_count": 22,
   "id": "09f3bff9",
   "metadata": {},
   "outputs": [
    {
     "name": "stdout",
     "output_type": "stream",
     "text": [
      "[2, 3, 4, 3, 5, 4, 5, 3, 4]\n",
      "{2, 3, 4, 5}\n",
      "<class 'set'>\n"
     ]
    }
   ],
   "source": [
    "# unique means\n",
    "a=[2,3,4,3,5,4,5,3,4]\n",
    "print(a)\n",
    "a={2,3,4,3,5,4,5,3,4}\n",
    "print(a)\n",
    "print(type(a))"
   ]
  },
  {
   "cell_type": "code",
   "execution_count": 1,
   "id": "7cb537a2",
   "metadata": {},
   "outputs": [
    {
     "name": "stdout",
     "output_type": "stream",
     "text": [
      "{2, 4, 5, 7, 8, 9, 10}\n"
     ]
    }
   ],
   "source": [
    "a={2,3,4,5,6}\n",
    "b={3,6,7,8,9,10}\n",
    "print(a.symmetric_difference(b))"
   ]
  },
  {
   "cell_type": "code",
   "execution_count": 5,
   "id": "e4752fab",
   "metadata": {},
   "outputs": [
    {
     "name": "stdout",
     "output_type": "stream",
     "text": [
      "{3, 6}\n",
      "{2, 3, 4, 5, 6, 7, 8, 9, 10}\n",
      "{3, 6}\n"
     ]
    }
   ],
   "source": [
    "a={2,3,4,5,6}\n",
    "b={3,6,7,8,9,10}\n",
    "print(a.intersection(b))\n",
    "print(a.union(b))\n",
    "a.intersection_update(b)\n",
    "print(a)"
   ]
  },
  {
   "cell_type": "code",
   "execution_count": 9,
   "id": "16439985",
   "metadata": {},
   "outputs": [
    {
     "name": "stdout",
     "output_type": "stream",
     "text": [
      "{20, 30}\n",
      "{40}\n",
      "{40}\n"
     ]
    }
   ],
   "source": [
    "x={20,30,40}\n",
    "y={40,50,60}\n",
    "print(x.difference(y))\n",
    "print(x.intersection(y))\n",
    "x.intersection_update(y)\n",
    "print(x)"
   ]
  },
  {
   "cell_type": "code",
   "execution_count": 13,
   "id": "e423ae87",
   "metadata": {},
   "outputs": [
    {
     "name": "stdout",
     "output_type": "stream",
     "text": [
      "True\n",
      "False\n"
     ]
    }
   ],
   "source": [
    "a={2,3}\n",
    "b={2,3,6,7,8,9,10}\n",
    "print(a.issubset(b))\n",
    "print(a.issuperset(b))"
   ]
  },
  {
   "cell_type": "code",
   "execution_count": 17,
   "id": "ad62b004",
   "metadata": {},
   "outputs": [
    {
     "name": "stdout",
     "output_type": "stream",
     "text": [
      "{2, 3, 4, 5, 6, 7}\n",
      "[2, 3, 4, 5, 6, 7]\n"
     ]
    }
   ],
   "source": [
    "# write a program to remove the duplicate values from the given list\n",
    "a = [2,3,4,5,6,7,2,4,3,5,6,7]\n",
    "a=set(a)\n",
    "print(a)\n",
    "a= list(a)\n",
    "print(a)"
   ]
  },
  {
   "cell_type": "code",
   "execution_count": 21,
   "id": "9978fd52",
   "metadata": {},
   "outputs": [
    {
     "name": "stdout",
     "output_type": "stream",
     "text": [
      "{40, 20}\n",
      "{40, 20}\n"
     ]
    }
   ],
   "source": [
    "# write a program to find the common elements from the given 3 list\n",
    "a=[20,30,40]\n",
    "b=[20,40,50,60]\n",
    "c=[20,30,40,50,60]\n",
    "a=set(a)\n",
    "b=set(b)\n",
    "c=set(c)\n",
    "z=a&b\n",
    "print(z&c)\n",
    "# code optimivation \n",
    "print(set(a) & set(b) &set(c))\n"
   ]
  },
  {
   "cell_type": "code",
   "execution_count": 22,
   "id": "e61495de",
   "metadata": {},
   "outputs": [
    {
     "name": "stdout",
     "output_type": "stream",
     "text": [
      "hello\n"
     ]
    }
   ],
   "source": [
    "# Functions \n",
    "\n",
    "def greeting():\n",
    "    print(\"hello\")\n",
    "greeting()    \n",
    "    "
   ]
  },
  {
   "cell_type": "code",
   "execution_count": 26,
   "id": "75ed7ea6",
   "metadata": {},
   "outputs": [
    {
     "name": "stdout",
     "output_type": "stream",
     "text": [
      "my name is Rajeev\n"
     ]
    }
   ],
   "source": [
    "def intro(name):\n",
    "    print(\"my name is\",name)\n",
    "intro(\"Rajeev\")    "
   ]
  },
  {
   "cell_type": "code",
   "execution_count": 27,
   "id": "608f646f",
   "metadata": {},
   "outputs": [
    {
     "name": "stdout",
     "output_type": "stream",
     "text": [
      "9\n"
     ]
    }
   ],
   "source": [
    "def add(a,b,c):\n",
    "    print(a+b+c)\n",
    "add(2,3,4)    "
   ]
  },
  {
   "cell_type": "code",
   "execution_count": 28,
   "id": "d157d629",
   "metadata": {},
   "outputs": [
    {
     "name": "stdout",
     "output_type": "stream",
     "text": [
      "15\n"
     ]
    }
   ],
   "source": [
    "add(4,5,6)"
   ]
  },
  {
   "cell_type": "code",
   "execution_count": 32,
   "id": "a99e9ff4",
   "metadata": {},
   "outputs": [
    {
     "name": "stdout",
     "output_type": "stream",
     "text": [
      "15\n"
     ]
    }
   ],
   "source": [
    "# Lamda function , anonymous function\n",
    "\n",
    "x= lambda a : a*3\n",
    "print(x(5))"
   ]
  },
  {
   "cell_type": "code",
   "execution_count": 35,
   "id": "17550991",
   "metadata": {},
   "outputs": [
    {
     "name": "stdout",
     "output_type": "stream",
     "text": [
      "6\n"
     ]
    }
   ],
   "source": [
    "z =lambda a,b,c : a+b-c\n",
    "print(z(4,5,3))"
   ]
  },
  {
   "cell_type": "code",
   "execution_count": 41,
   "id": "724b3611",
   "metadata": {},
   "outputs": [
    {
     "name": "stdout",
     "output_type": "stream",
     "text": [
      "heads\n"
     ]
    }
   ],
   "source": [
    "# modules -.py file hai \n",
    "import random\n",
    "coin=[\"heads\",\"tails\"]\n",
    "toss=random.choice(coin)\n",
    "print(toss)"
   ]
  },
  {
   "cell_type": "code",
   "execution_count": 49,
   "id": "30d59364",
   "metadata": {},
   "outputs": [
    {
     "name": "stdout",
     "output_type": "stream",
     "text": [
      "1\n"
     ]
    }
   ],
   "source": [
    "import random\n",
    "dice=[1,2,3,4,5,6]\n",
    "roll=random.choice(dice)\n",
    "print(roll)"
   ]
  },
  {
   "cell_type": "code",
   "execution_count": 54,
   "id": "21b20d9d",
   "metadata": {},
   "outputs": [
    {
     "name": "stdout",
     "output_type": "stream",
     "text": [
      "guess a number: 40\n",
      "you guess is gretter than computer's value\n",
      "guess a number: 30\n",
      "your guess is smaller than computer's value\n",
      "guess a number: 35\n",
      "you guess is gretter than computer's value\n",
      "guess a number: 33\n",
      "your guess is smaller than computer's value\n",
      "guess a number: 34\n",
      "correct answer!\n"
     ]
    }
   ],
   "source": [
    "# Game \n",
    "comp =random.randint(1,100)\n",
    "chance =7\n",
    "while chance >=0:\n",
    "    guess = int(input('guess a number: '))\n",
    "    if guess > comp:\n",
    "        print(\"you guess is gretter than computer's value\")\n",
    "        chance -=1\n",
    "    elif guess < comp:\n",
    "        print(\"your guess is smaller than computer's value\")\n",
    "        chance -=1\n",
    "    else:\n",
    "        print(\"correct answer!\")\n",
    "        break\n",
    "else:\n",
    "    print(\"All your chance exhaused\")\n",
    "    print(\"the correct number is\",comp)"
   ]
  },
  {
   "cell_type": "code",
   "execution_count": null,
   "id": "d7b8d993",
   "metadata": {},
   "outputs": [],
   "source": []
  },
  {
   "cell_type": "code",
   "execution_count": null,
   "id": "c8d02b51",
   "metadata": {},
   "outputs": [],
   "source": []
  },
  {
   "cell_type": "code",
   "execution_count": null,
   "id": "f6f60a0e",
   "metadata": {},
   "outputs": [],
   "source": []
  },
  {
   "cell_type": "code",
   "execution_count": null,
   "id": "f5cb8fd0",
   "metadata": {},
   "outputs": [],
   "source": []
  },
  {
   "cell_type": "code",
   "execution_count": null,
   "id": "1da9c650",
   "metadata": {},
   "outputs": [],
   "source": []
  },
  {
   "cell_type": "code",
   "execution_count": null,
   "id": "7ac36e4e",
   "metadata": {},
   "outputs": [],
   "source": []
  },
  {
   "cell_type": "code",
   "execution_count": null,
   "id": "a8376d81",
   "metadata": {},
   "outputs": [],
   "source": []
  },
  {
   "cell_type": "code",
   "execution_count": null,
   "id": "47275cb5",
   "metadata": {},
   "outputs": [],
   "source": []
  }
 ],
 "metadata": {
  "kernelspec": {
   "display_name": "Python 3 (ipykernel)",
   "language": "python",
   "name": "python3"
  },
  "language_info": {
   "codemirror_mode": {
    "name": "ipython",
    "version": 3
   },
   "file_extension": ".py",
   "mimetype": "text/x-python",
   "name": "python",
   "nbconvert_exporter": "python",
   "pygments_lexer": "ipython3",
   "version": "3.10.9"
  }
 },
 "nbformat": 4,
 "nbformat_minor": 5
}
